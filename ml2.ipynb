{
 "cells": [
  {
   "cell_type": "markdown",
   "metadata": {},
   "source": [
    "Определение варианта"
   ]
  },
  {
   "cell_type": "code",
   "execution_count": 2,
   "metadata": {},
   "outputs": [
    {
     "data": {
      "text/plain": [
       "1"
      ]
     },
     "execution_count": 2,
     "metadata": {},
     "output_type": "execute_result"
    }
   ],
   "source": [
    "18 % 3 + 1"
   ]
  },
  {
   "cell_type": "code",
   "execution_count": 31,
   "metadata": {},
   "outputs": [
    {
     "name": "stdout",
     "output_type": "stream",
     "text": [
      "[nltk_data] Downloading package movie_reviews to\n",
      "[nltk_data]     /home/exile/nltk_data...\n",
      "[nltk_data]   Package movie_reviews is already up-to-date!\n",
      "[nltk_data] Downloading package stopwords to /home/exile/nltk_data...\n",
      "[nltk_data]   Package stopwords is already up-to-date!\n"
     ]
    }
   ],
   "source": [
    "import nltk\n",
    "nltk.download('movie_reviews')\n",
    "from nltk.corpus import movie_reviews\n",
    "nltk.download('stopwords')\n",
    "from nltk.corpus import stopwords\n",
    "from nltk.stem.porter import PorterStemmer\n",
    "import sklearn.naive_bayes\n",
    "import sklearn.neighbors\n",
    "import sklearn.linear_model\n",
    "import sklearn.feature_extraction.text\n",
    "import sklearn.model_selection\n",
    "import sklearn.metrics\n",
    "import numpy as np\n",
    "import matplotlib.pyplot as plt"
   ]
  },
  {
   "cell_type": "markdown",
   "metadata": {},
   "source": [
    "Подготовка данных:"
   ]
  },
  {
   "cell_type": "code",
   "execution_count": 29,
   "metadata": {},
   "outputs": [],
   "source": [
    "neg_ind = movie_reviews.fileids('neg')\n",
    "pos_ind = movie_reviews.fileids('pos')\n",
    "pos_f = [' '.join(movie_reviews.words(fileids=[f])) for f in pos_ind]\n",
    "neg_f = [' '.join(movie_reviews.words(fileids=[f])) for f in neg_ind]\n",
    "raw_texts = pos_f + neg_f"
   ]
  },
  {
   "cell_type": "code",
   "execution_count": 30,
   "metadata": {},
   "outputs": [],
   "source": [
    "texts = []\n",
    "ps = PorterStemmer()\n",
    "for text in raw_texts:\n",
    "    cur_text = text.lower().split()\n",
    "    cur_text = ' '.join([ps.stem(word) for word in cur_text if not word in set(stopwords.words('english'))])\n",
    "    texts.append(cur_text)"
   ]
  },
  {
   "cell_type": "code",
   "execution_count": 33,
   "metadata": {},
   "outputs": [],
   "source": [
    "vctrz = sklearn.feature_extraction.text.CountVectorizer()\n",
    "x_a = vctrz.fit_transform(texts)\n",
    "y_a = np.array([1 for _ in range(len(pos_f))] + [0 for _ in range(len(neg_f))])"
   ]
  },
  {
   "cell_type": "markdown",
   "metadata": {},
   "source": [
    "Для сравнения возьмём обучающие выборки разных размеров."
   ]
  },
  {
   "cell_type": "code",
   "execution_count": 35,
   "metadata": {},
   "outputs": [
    {
     "name": "stdout",
     "output_type": "stream",
     "text": [
      "Size of training sample (proportion): 0.1\n",
      "Size of training sample (absolute): 200\n",
      "Cross-validation metrics result on training sample:\n"
     ]
    },
    {
     "name": "stderr",
     "output_type": "stream",
     "text": [
      "/home/exile/.binary_releases/anaconda3/lib/python3.6/site-packages/sklearn/model_selection/_split.py:2026: FutureWarning: From version 0.21, test_size will always complement train_size unless both are specified.\n",
      "  FutureWarning)\n"
     ]
    },
    {
     "name": "stdout",
     "output_type": "stream",
     "text": [
      "metric: accuracy, mean result: 0.6950000000000001, all_results: [0.675 0.675 0.8   0.75  0.575]\n",
      "metric: roc_auc, mean result: 0.8033530903665813, all_results: [0.78772379 0.71614583 0.8515625  0.85066667 0.81066667]\n",
      "Metrics on test sample:\n",
      "metric: accuracy, result: 0.7333333333333333\n",
      "metric: roc_auc, result: 0.7335905429179913\n",
      "_____________________________________________\n",
      "Size of training sample (proportion): 0.2\n",
      "Size of training sample (absolute): 400\n",
      "Cross-validation metrics result on training sample:\n"
     ]
    },
    {
     "name": "stderr",
     "output_type": "stream",
     "text": [
      "/home/exile/.binary_releases/anaconda3/lib/python3.6/site-packages/sklearn/model_selection/_split.py:2026: FutureWarning: From version 0.21, test_size will always complement train_size unless both are specified.\n",
      "  FutureWarning)\n"
     ]
    },
    {
     "name": "stdout",
     "output_type": "stream",
     "text": [
      "metric: accuracy, mean result: 0.735, all_results: [0.6875 0.7125 0.7875 0.775  0.7125]\n",
      "metric: roc_auc, mean result: 0.8170850732223393, all_results: [0.78412698 0.7942464  0.83280955 0.82512626 0.84911616]\n",
      "Metrics on test sample:\n",
      "metric: accuracy, result: 0.734375\n",
      "metric: roc_auc, result: 0.7356423234815657\n",
      "_____________________________________________\n",
      "Size of training sample (proportion): 0.30000000000000004\n",
      "Size of training sample (absolute): 600\n",
      "Cross-validation metrics result on training sample:\n"
     ]
    },
    {
     "name": "stderr",
     "output_type": "stream",
     "text": [
      "/home/exile/.binary_releases/anaconda3/lib/python3.6/site-packages/sklearn/model_selection/_split.py:2026: FutureWarning: From version 0.21, test_size will always complement train_size unless both are specified.\n",
      "  FutureWarning)\n"
     ]
    },
    {
     "name": "stdout",
     "output_type": "stream",
     "text": [
      "metric: accuracy, mean result: 0.7583333333333333, all_results: [0.76666667 0.76666667 0.73333333 0.76666667 0.75833333]\n",
      "metric: roc_auc, mean result: 0.8434685851123674, all_results: [0.86040044 0.86778846 0.82064462 0.83188811 0.83662128]\n",
      "Metrics on test sample:\n",
      "metric: accuracy, result: 0.7878571428571428\n",
      "metric: roc_auc, result: 0.7878760977063219\n",
      "_____________________________________________\n",
      "Size of training sample (proportion): 0.4\n",
      "Size of training sample (absolute): 800\n",
      "Cross-validation metrics result on training sample:\n"
     ]
    },
    {
     "name": "stderr",
     "output_type": "stream",
     "text": [
      "/home/exile/.binary_releases/anaconda3/lib/python3.6/site-packages/sklearn/model_selection/_split.py:2026: FutureWarning: From version 0.21, test_size will always complement train_size unless both are specified.\n",
      "  FutureWarning)\n"
     ]
    },
    {
     "name": "stdout",
     "output_type": "stream",
     "text": [
      "metric: accuracy, mean result: 0.76875, all_results: [0.75    0.78125 0.85625 0.73125 0.725  ]\n",
      "metric: roc_auc, mean result: 0.8425204400494899, all_results: [0.82301922 0.86379283 0.9127907  0.82094118 0.79205827]\n",
      "Metrics on test sample:\n",
      "metric: accuracy, result: 0.8\n",
      "metric: roc_auc, result: 0.8000311153462556\n",
      "_____________________________________________\n",
      "Size of training sample (proportion): 0.5\n",
      "Size of training sample (absolute): 1000\n",
      "Cross-validation metrics result on training sample:\n"
     ]
    },
    {
     "name": "stderr",
     "output_type": "stream",
     "text": [
      "/home/exile/.binary_releases/anaconda3/lib/python3.6/site-packages/sklearn/model_selection/_split.py:2026: FutureWarning: From version 0.21, test_size will always complement train_size unless both are specified.\n",
      "  FutureWarning)\n"
     ]
    },
    {
     "name": "stdout",
     "output_type": "stream",
     "text": [
      "metric: accuracy, mean result: 0.787, all_results: [0.785 0.775 0.785 0.78  0.81 ]\n",
      "metric: roc_auc, mean result: 0.8566226394704204, all_results: [0.85434174 0.84553092 0.84305875 0.86072465 0.87945713]\n",
      "Metrics on test sample:\n",
      "metric: accuracy, result: 0.814\n",
      "metric: roc_auc, result: 0.8140195478313749\n",
      "_____________________________________________\n",
      "Size of training sample (proportion): 0.6\n",
      "Size of training sample (absolute): 1200\n",
      "Cross-validation metrics result on training sample:\n"
     ]
    },
    {
     "name": "stderr",
     "output_type": "stream",
     "text": [
      "/home/exile/.binary_releases/anaconda3/lib/python3.6/site-packages/sklearn/model_selection/_split.py:2026: FutureWarning: From version 0.21, test_size will always complement train_size unless both are specified.\n",
      "  FutureWarning)\n"
     ]
    },
    {
     "name": "stdout",
     "output_type": "stream",
     "text": [
      "metric: accuracy, mean result: 0.7958333333333333, all_results: [0.78333333 0.84166667 0.81666667 0.75833333 0.77916667]\n",
      "metric: roc_auc, mean result: 0.859643161219371, all_results: [0.83630808 0.88659579 0.87408848 0.83564831 0.86557515]\n",
      "Metrics on test sample:\n",
      "metric: accuracy, result: 0.815\n",
      "metric: roc_auc, result: 0.815135195991969\n",
      "_____________________________________________\n",
      "Size of training sample (proportion): 0.7000000000000001\n",
      "Size of training sample (absolute): 1400\n",
      "Cross-validation metrics result on training sample:\n"
     ]
    },
    {
     "name": "stderr",
     "output_type": "stream",
     "text": [
      "/home/exile/.binary_releases/anaconda3/lib/python3.6/site-packages/sklearn/model_selection/_split.py:2026: FutureWarning: From version 0.21, test_size will always complement train_size unless both are specified.\n",
      "  FutureWarning)\n"
     ]
    },
    {
     "name": "stdout",
     "output_type": "stream",
     "text": [
      "metric: accuracy, mean result: 0.7985714285714286, all_results: [0.81071429 0.79285714 0.80357143 0.78214286 0.80357143]\n",
      "metric: roc_auc, mean result: 0.8672940906076537, all_results: [0.86848635 0.85388583 0.89342369 0.85253683 0.86813776]\n",
      "Metrics on test sample:\n",
      "metric: accuracy, result: 0.7866666666666666\n",
      "metric: roc_auc, result: 0.7862743135488606\n",
      "_____________________________________________\n",
      "Size of training sample (proportion): 0.8\n",
      "Size of training sample (absolute): 1600\n",
      "Cross-validation metrics result on training sample:\n"
     ]
    },
    {
     "name": "stderr",
     "output_type": "stream",
     "text": [
      "/home/exile/.binary_releases/anaconda3/lib/python3.6/site-packages/sklearn/model_selection/_split.py:2026: FutureWarning: From version 0.21, test_size will always complement train_size unless both are specified.\n",
      "  FutureWarning)\n"
     ]
    },
    {
     "name": "stdout",
     "output_type": "stream",
     "text": [
      "metric: accuracy, mean result: 0.8012499999999999, all_results: [0.8375   0.775    0.8125   0.771875 0.809375]\n",
      "metric: roc_auc, mean result: 0.8703024884628222, all_results: [0.90926535 0.85079179 0.8715738  0.85328125 0.86660025]\n",
      "Metrics on test sample:\n",
      "metric: accuracy, result: 0.78\n",
      "metric: roc_auc, result: 0.7798018216394755\n",
      "_____________________________________________\n"
     ]
    },
    {
     "data": {
      "image/png": "[encoded data removed]",
      "text/plain": [
       "<matplotlib.figure.Figure at 0x7f89febf65c0>"
      ]
     },
     "metadata": {},
     "output_type": "display_data"
    },
    {
     "data": {
      "image/png": "[encoded data removed]",
      "text/plain": [
       "<matplotlib.figure.Figure at 0x7f89fe211978>"
      ]
     },
     "metadata": {},
     "output_type": "display_data"
    }
   ],
   "source": [
    "tr_sizes_l = np.linspace(0.1, 0.8, 8)\n",
    "metrics_l = ['accuracy', 'roc_auc']\n",
    "metrics_d = {'accuracy': sklearn.metrics.accuracy_score, 'roc_auc': sklearn.metrics.roc_auc_score}\n",
    "cv_metr_mean_res_d = {'accuracy': [], 'roc_auc': []}\n",
    "metr_res_d = {'accuracy': [], 'roc_auc': []}\n",
    "sample_sz_l = []\n",
    "\n",
    "for tr_size in tr_sizes_l:\n",
    "    x_tr, x_test, y_tr, y_test = sklearn.model_selection.train_test_split(x_a, y_a, train_size=tr_size, random_state=322, shuffle=True)\n",
    "    sample_sz_l.append(tr_size)\n",
    "    print('Size of training sample (proportion):', tr_size)\n",
    "    print('Size of training sample (absolute):', x_tr.shape[0])\n",
    "    print('Cross-validation metrics result on training sample:')\n",
    "    clf = sklearn.naive_bayes.MultinomialNB()\n",
    "    nsplits_gen = sklearn.model_selection.KFold(n_splits=5, shuffle=True, random_state=322)\n",
    "    for metric in metrics_l:\n",
    "        cv_score = sklearn.model_selection.cross_val_score(clf, x_tr, y_tr, scoring=metric, cv=nsplits_gen, n_jobs=-1)\n",
    "        cv_metr_mean_res_d[metric].append(np.mean(cv_score))\n",
    "        print('metric: {0}, mean result: {1}, all_results: {2}'.format(metric, np.mean(cv_score), cv_score))\n",
    "    print('Metrics on test sample:')\n",
    "    clf = sklearn.naive_bayes.MultinomialNB()\n",
    "    clf.fit(x_tr, y_tr)\n",
    "    y_pred = clf.predict(x_test)\n",
    "    for metric in metrics_l:\n",
    "        res = metrics_d[metric](y_test, y_pred)\n",
    "        metr_res_d[metric].append(res)\n",
    "        print('metric: {0}, result: {1}'.format(metric, res))\n",
    "    print('_____________________________________________')\n",
    "    \n",
    "plt.Figure(figsize = (6, 24))\n",
    "\n",
    "for metric in metrics_l:\n",
    "    plt.title(metric)\n",
    "    plt.grid(True)\n",
    "    plt.plot(sample_sz_l, cv_metr_mean_res_d[metric], label='Cross-validation result on training sample')\n",
    "    plt.plot(sample_sz_l, metr_res_d[metric], label='Test sample result')\n",
    "    plt.legend()\n",
    "    plt.show()"
   ]
  },
  {
   "cell_type": "markdown",
   "metadata": {},
   "source": [
    "Из этих данных видно, что при размере тестовой выборки $\\gt 0.6$ классификатор начинает переобучаться и качество предсказания резко падает, хотя кросс-валидация даёт хороший результат. В целом НБК показал хороший результат для такой сложной задачи, как классификация текста."
   ]
  },
  {
   "cell_type": "markdown",
   "metadata": {},
   "source": [
    "Теперь попробуем проделать ровно теже измерения, но при анализе текста мы не будем использовать стоп-слова. Таким образом, качество выборки должно понизиться. Посмотрим, какие результаты мы сможем получить при такой выборке."
   ]
  },
  {
   "cell_type": "code",
   "execution_count": 36,
   "metadata": {},
   "outputs": [],
   "source": [
    "neg_ind = movie_reviews.fileids('neg')\n",
    "pos_ind = movie_reviews.fileids('pos')\n",
    "pos_f = [' '.join(movie_reviews.words(fileids=[f])) for f in pos_ind]\n",
    "neg_f = [' '.join(movie_reviews.words(fileids=[f])) for f in neg_ind]\n",
    "raw_texts = pos_f + neg_f"
   ]
  },
  {
   "cell_type": "code",
   "execution_count": 37,
   "metadata": {},
   "outputs": [],
   "source": [
    "texts = []\n",
    "ps = PorterStemmer()\n",
    "for text in raw_texts:\n",
    "    cur_text = text.lower().split()\n",
    "    cur_text = ' '.join([ps.stem(word) for word in cur_text])\n",
    "    texts.append(cur_text)"
   ]
  },
  {
   "cell_type": "code",
   "execution_count": 38,
   "metadata": {},
   "outputs": [],
   "source": [
    "vctrz = sklearn.feature_extraction.text.CountVectorizer()\n",
    "x_a = vctrz.fit_transform(texts)\n",
    "y_a = np.array([1 for _ in range(len(pos_f))] + [0 for _ in range(len(neg_f))])"
   ]
  },
  {
   "cell_type": "code",
   "execution_count": 39,
   "metadata": {
    "scrolled": true
   },
   "outputs": [
    {
     "name": "stdout",
     "output_type": "stream",
     "text": [
      "Size of training sample (proportion): 0.1\n",
      "Size of training sample (absolute): 200\n",
      "Cross-validation metrics result on training sample:\n"
     ]
    },
    {
     "name": "stderr",
     "output_type": "stream",
     "text": [
      "/home/exile/.binary_releases/anaconda3/lib/python3.6/site-packages/sklearn/model_selection/_split.py:2026: FutureWarning: From version 0.21, test_size will always complement train_size unless both are specified.\n",
      "  FutureWarning)\n"
     ]
    },
    {
     "name": "stdout",
     "output_type": "stream",
     "text": [
      "metric: accuracy, mean result: 0.6849999999999999, all_results: [0.725 0.65  0.75  0.725 0.575]\n",
      "metric: roc_auc, mean result: 0.8131308823529413, all_results: [0.82352941 0.70572917 0.87239583 0.85866667 0.80533333]\n",
      "Metrics on test sample:\n",
      "metric: accuracy, result: 0.7422222222222222\n",
      "metric: roc_auc, result: 0.742405629803389\n",
      "_____________________________________________\n",
      "Size of training sample (proportion): 0.2\n",
      "Size of training sample (absolute): 400\n",
      "Cross-validation metrics result on training sample:\n"
     ]
    },
    {
     "name": "stderr",
     "output_type": "stream",
     "text": [
      "/home/exile/.binary_releases/anaconda3/lib/python3.6/site-packages/sklearn/model_selection/_split.py:2026: FutureWarning: From version 0.21, test_size will always complement train_size unless both are specified.\n",
      "  FutureWarning)\n"
     ]
    },
    {
     "name": "stdout",
     "output_type": "stream",
     "text": [
      "metric: accuracy, mean result: 0.7300000000000001, all_results: [0.675  0.7125 0.7875 0.75   0.725 ]\n",
      "metric: roc_auc, mean result: 0.8319458107803257, all_results: [0.80126984 0.78611632 0.84412319 0.83838384 0.88983586]\n",
      "Metrics on test sample:\n",
      "metric: accuracy, result: 0.734375\n",
      "metric: roc_auc, result: 0.7358392234017117\n",
      "_____________________________________________\n",
      "Size of training sample (proportion): 0.30000000000000004\n",
      "Size of training sample (absolute): 600\n",
      "Cross-validation metrics result on training sample:\n"
     ]
    },
    {
     "name": "stderr",
     "output_type": "stream",
     "text": [
      "/home/exile/.binary_releases/anaconda3/lib/python3.6/site-packages/sklearn/model_selection/_split.py:2026: FutureWarning: From version 0.21, test_size will always complement train_size unless both are specified.\n",
      "  FutureWarning)\n"
     ]
    },
    {
     "name": "stdout",
     "output_type": "stream",
     "text": [
      "metric: accuracy, mean result: 0.7633333333333333, all_results: [0.775      0.775      0.73333333 0.775      0.75833333]\n",
      "metric: roc_auc, mean result: 0.8487612292060692, all_results: [0.86012236 0.87471719 0.83161989 0.84461538 0.83273131]\n",
      "Metrics on test sample:\n",
      "metric: accuracy, result: 0.7942857142857143\n",
      "metric: roc_auc, result: 0.7943118251261738\n",
      "_____________________________________________\n",
      "Size of training sample (proportion): 0.4\n",
      "Size of training sample (absolute): 800\n",
      "Cross-validation metrics result on training sample:\n"
     ]
    },
    {
     "name": "stderr",
     "output_type": "stream",
     "text": [
      "/home/exile/.binary_releases/anaconda3/lib/python3.6/site-packages/sklearn/model_selection/_split.py:2026: FutureWarning: From version 0.21, test_size will always complement train_size unless both are specified.\n",
      "  FutureWarning)\n"
     ]
    },
    {
     "name": "stdout",
     "output_type": "stream",
     "text": [
      "metric: accuracy, mean result: 0.77875, all_results: [0.76875 0.78125 0.86875 0.7625  0.7125 ]\n",
      "metric: roc_auc, mean result: 0.8506389249900133, all_results: [0.83614627 0.86019402 0.92269013 0.83380392 0.80036028]\n",
      "Metrics on test sample:\n",
      "metric: accuracy, result: 0.7991666666666667\n",
      "metric: roc_auc, result: 0.7992462863000798\n",
      "_____________________________________________\n",
      "Size of training sample (proportion): 0.5\n",
      "Size of training sample (absolute): 1000\n",
      "Cross-validation metrics result on training sample:\n"
     ]
    },
    {
     "name": "stderr",
     "output_type": "stream",
     "text": [
      "/home/exile/.binary_releases/anaconda3/lib/python3.6/site-packages/sklearn/model_selection/_split.py:2026: FutureWarning: From version 0.21, test_size will always complement train_size unless both are specified.\n",
      "  FutureWarning)\n"
     ]
    },
    {
     "name": "stdout",
     "output_type": "stream",
     "text": [
      "metric: accuracy, mean result: 0.7910000000000001, all_results: [0.795 0.775 0.79  0.79  0.805]\n",
      "metric: roc_auc, mean result: 0.86067955480805, all_results: [0.8609944  0.84715052 0.85096587 0.86267641 0.88161058]\n",
      "Metrics on test sample:\n",
      "metric: accuracy, result: 0.814\n",
      "metric: roc_auc, result: 0.8141315697876783\n",
      "_____________________________________________\n",
      "Size of training sample (proportion): 0.6\n",
      "Size of training sample (absolute): 1200\n",
      "Cross-validation metrics result on training sample:\n"
     ]
    },
    {
     "name": "stderr",
     "output_type": "stream",
     "text": [
      "/home/exile/.binary_releases/anaconda3/lib/python3.6/site-packages/sklearn/model_selection/_split.py:2026: FutureWarning: From version 0.21, test_size will always complement train_size unless both are specified.\n",
      "  FutureWarning)\n"
     ]
    },
    {
     "name": "stdout",
     "output_type": "stream",
     "text": [
      "metric: accuracy, mean result: 0.8016666666666667, all_results: [0.77916667 0.82083333 0.82916667 0.7875     0.79166667]\n",
      "metric: roc_auc, mean result: 0.8648578761734452, all_results: [0.84554483 0.88131471 0.87714425 0.8459268  0.87435879]\n",
      "Metrics on test sample:\n",
      "metric: accuracy, result: 0.81625\n",
      "metric: roc_auc, result: 0.8166269491302798\n",
      "_____________________________________________\n",
      "Size of training sample (proportion): 0.7000000000000001\n",
      "Size of training sample (absolute): 1400\n",
      "Cross-validation metrics result on training sample:\n"
     ]
    },
    {
     "name": "stderr",
     "output_type": "stream",
     "text": [
      "/home/exile/.binary_releases/anaconda3/lib/python3.6/site-packages/sklearn/model_selection/_split.py:2026: FutureWarning: From version 0.21, test_size will always complement train_size unless both are specified.\n",
      "  FutureWarning)\n"
     ]
    },
    {
     "name": "stdout",
     "output_type": "stream",
     "text": [
      "metric: accuracy, mean result: 0.8021428571428573, all_results: [0.82142857 0.81428571 0.81428571 0.75357143 0.80714286]\n",
      "metric: roc_auc, mean result: 0.8725725299890849, all_results: [0.87293218 0.86412377 0.89948149 0.853315   0.8730102 ]\n",
      "Metrics on test sample:\n",
      "metric: accuracy, result: 0.7933333333333333\n",
      "metric: roc_auc, result: 0.7929469856203917\n",
      "_____________________________________________\n",
      "Size of training sample (proportion): 0.8\n",
      "Size of training sample (absolute): 1600\n",
      "Cross-validation metrics result on training sample:\n"
     ]
    },
    {
     "name": "stderr",
     "output_type": "stream",
     "text": [
      "/home/exile/.binary_releases/anaconda3/lib/python3.6/site-packages/sklearn/model_selection/_split.py:2026: FutureWarning: From version 0.21, test_size will always complement train_size unless both are specified.\n",
      "  FutureWarning)\n"
     ]
    },
    {
     "name": "stdout",
     "output_type": "stream",
     "text": [
      "metric: accuracy, mean result: 0.8074999999999999, all_results: [0.846875 0.796875 0.8      0.78125  0.8125  ]\n",
      "metric: roc_auc, mean result: 0.8741385612472763, all_results: [0.91372964 0.85562072 0.87548387 0.85597656 0.86988201]\n",
      "Metrics on test sample:\n",
      "metric: accuracy, result: 0.77\n",
      "metric: roc_auc, result: 0.7696426784105695\n",
      "_____________________________________________\n"
     ]
    },
    {
     "data": {
      "image/png": "[encoded data removed]",
      "text/plain": [
       "<matplotlib.figure.Figure at 0x7f89fe41b828>"
      ]
     },
     "metadata": {},
     "output_type": "display_data"
    },
    {
     "data": {
      "image/png": "[encoded data removed]",
      "text/plain": [
       "<matplotlib.figure.Figure at 0x7f89fe4d7940>"
      ]
     },
     "metadata": {},
     "output_type": "display_data"
    }
   ],
   "source": [
    "tr_sizes_l = np.linspace(0.1, 0.8, 8)\n",
    "metrics_l = ['accuracy', 'roc_auc']\n",
    "metrics_d = {'accuracy': sklearn.metrics.accuracy_score, 'roc_auc': sklearn.metrics.roc_auc_score}\n",
    "cv_metr_mean_res_d = {'accuracy': [], 'roc_auc': []}\n",
    "metr_res_d = {'accuracy': [], 'roc_auc': []}\n",
    "sample_sz_l = []\n",
    "\n",
    "for tr_size in tr_sizes_l:\n",
    "    x_tr, x_test, y_tr, y_test = sklearn.model_selection.train_test_split(x_a, y_a, train_size=tr_size, random_state=322, shuffle=True)\n",
    "    sample_sz_l.append(tr_size)\n",
    "    print('Size of training sample (proportion):', tr_size)\n",
    "    print('Size of training sample (absolute):', x_tr.shape[0])\n",
    "    print('Cross-validation metrics result on training sample:')\n",
    "    clf = sklearn.naive_bayes.MultinomialNB()\n",
    "    nsplits_gen = sklearn.model_selection.KFold(n_splits=5, shuffle=True, random_state=322)\n",
    "    for metric in metrics_l:\n",
    "        cv_score = sklearn.model_selection.cross_val_score(clf, x_tr, y_tr, scoring=metric, cv=nsplits_gen, n_jobs=-1)\n",
    "        cv_metr_mean_res_d[metric].append(np.mean(cv_score))\n",
    "        print('metric: {0}, mean result: {1}, all_results: {2}'.format(metric, np.mean(cv_score), cv_score))\n",
    "    print('Metrics on test sample:')\n",
    "    clf = sklearn.naive_bayes.MultinomialNB()\n",
    "    clf.fit(x_tr, y_tr)\n",
    "    y_pred = clf.predict(x_test)\n",
    "    for metric in metrics_l:\n",
    "        res = metrics_d[metric](y_test, y_pred)\n",
    "        metr_res_d[metric].append(res)\n",
    "        print('metric: {0}, result: {1}'.format(metric, res))\n",
    "    print('_____________________________________________')\n",
    "    \n",
    "plt.Figure(figsize = (6, 24))\n",
    "\n",
    "for metric in metrics_l:\n",
    "    plt.title(metric)\n",
    "    plt.grid(True)\n",
    "    plt.plot(sample_sz_l, cv_metr_mean_res_d[metric], label='Cross-validation result on training sample')\n",
    "    plt.plot(sample_sz_l, metr_res_d[metric], label='Test sample result')\n",
    "    plt.legend()\n",
    "    plt.show()"
   ]
  },
  {
   "cell_type": "markdown",
   "metadata": {},
   "source": [
    "Здесь также происходит переобучение при превышении относительного размера тестовой выборки 0.6. Однако в целом, как ни странно, качество алгоритма ухудшилось совсем незначительно. Вероятно, для данных текстов стоп-слова не имеют большой важности для качества предсказания."
   ]
  }
 ],
 "metadata": {
  "kernelspec": {
   "display_name": "Python 3",
   "language": "python",
   "name": "python3"
  },
  "language_info": {
   "codemirror_mode": {
    "name": "ipython",
    "version": 3
   },
   "file_extension": ".py",
   "mimetype": "text/x-python",
   "name": "python",
   "nbconvert_exporter": "python",
   "pygments_lexer": "ipython3",
   "version": "3.6.4"
  }
 },
 "nbformat": 4,
 "nbformat_minor": 2
}
